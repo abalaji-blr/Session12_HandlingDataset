{
  "nbformat": 4,
  "nbformat_minor": 0,
  "metadata": {
    "colab": {
      "name": "Session12_Gen_HandlingData.ipynb",
      "provenance": [],
      "collapsed_sections": [],
      "authorship_tag": "ABX9TyMpai7vfRECpMREXjVC4ROu",
      "include_colab_link": true
    },
    "kernelspec": {
      "name": "python3",
      "display_name": "Python 3"
    },
    "language_info": {
      "name": "python"
    }
  },
  "cells": [
    {
      "cell_type": "markdown",
      "metadata": {
        "id": "view-in-github",
        "colab_type": "text"
      },
      "source": [
        "<a href=\"https://colab.research.google.com/github/abalaji-blr/Session12_HandlingDataset/blob/main/Session12_Gen_HandlingData.ipynb\" target=\"_parent\"><img src=\"https://colab.research.google.com/assets/colab-badge.svg\" alt=\"Open In Colab\"/></a>"
      ]
    },
    {
      "cell_type": "markdown",
      "source": [
        "# Session 12: Generators and Handling Dataset"
      ],
      "metadata": {
        "id": "RIsG5jgj_nIa"
      }
    },
    {
      "cell_type": "markdown",
      "source": [
        "## About Data"
      ],
      "metadata": {
        "id": "-5FsLKuZ_r4W"
      }
    },
    {
      "cell_type": "markdown",
      "source": [
        "For this project you have 4 files containing information about persons.\n",
        "\n",
        "The files are:\n",
        "* `personal_info.csv` -   personal information such as name, gender, etc. (one row per person)\n",
        "* `vehicles.csv` -   what vehicle people own (one row per person)\n",
        "* `employment.csv` -   where a person is employed (one row per person)\n",
        "* `update_status.csv` -   when the person's data was created and last updated\n",
        "\n",
        "Each file contains a key, `SSN`, which **uniquely** identifies a person.\n",
        "\n",
        "This key is present in **all** four files.\n",
        "\n",
        "You are guaranteed that the same SSN value is present in **every** file, and that it only appears **once per file**.\n",
        "\n",
        "In addition, the files are all sorted by SSN, i.e. the SSN values appear in the same order in each file."
      ],
      "metadata": {
        "id": "XSN3sfZG_zYG"
      }
    },
    {
      "cell_type": "markdown",
      "source": [
        "## Objectives"
      ],
      "metadata": {
        "id": "tVuYLElz_uOb"
      }
    },
    {
      "cell_type": "markdown",
      "source": [
        "## Objective\n",
        "\n",
        "##### Goal 1\n",
        "\n",
        "Your first task is to create iterators for each of the four files that contained cleaned up data, of the correct type (e.g. string, int, date, etc), and represented by a named tuple.\n",
        "\n",
        "For now these four iterators are just separate, independent iterators.\n",
        "\n",
        "##### Goal 2\n",
        "\n",
        "Create a single iterable that combines all the columns from all the iterators.\n",
        "\n",
        "The iterable should yield named tuples containing all the columns.\n",
        "Make sure that the SSN's across the files match!\n",
        "\n",
        "All the files are guaranteed to be in SSN sort order, and every SSN is unique, and every SSN appears in every file.\n",
        "\n",
        "Make sure the SSN is not repeated 4 times - one time per row is enough!\n",
        "\n",
        "##### Goal 3\n",
        "\n",
        "Next, you want to identify any stale records, where stale simply means the record has not been updated since 3/1/2017 (e.g. last update date < 3/1/2017). Create an iterator that only contains current records (i.e. not stale) based on the `last_updated` field from the `status_update` file.\n",
        "\n",
        "##### Goal 4\n",
        "\n",
        "Find the largest group of car makes for each gender.\n",
        "\n",
        "Possibly more than one such group per gender exists (equal sizes).\n",
        "\n",
        "##### Hints\n",
        "\n",
        "You will not be able to use a simple split approach here, as I explain in the video.\n",
        "\n",
        "Instead you should use the `csv` module and the `reader` function.\n",
        "\n",
        "Here's a simple example of how to use it - you will need to expand on this for your project goals, but this is a good starting point."
      ],
      "metadata": {
        "id": "osxNHZB3_7u4"
      }
    },
    {
      "cell_type": "markdown",
      "source": [
        "## Hints About Handling Files"
      ],
      "metadata": {
        "id": "crnvClBVABLm"
      }
    },
    {
      "cell_type": "code",
      "execution_count": null,
      "metadata": {
        "id": "0BKrvtlG_gx0"
      },
      "outputs": [],
      "source": [
        "import csv\n",
        "\n",
        "def read_file(file_name):\n",
        "    with open(file_name) as f:\n",
        "        rows = csv.reader(f, delimiter=',', quotechar='\"')\n",
        "        yield from rows"
      ]
    },
    {
      "cell_type": "code",
      "source": [
        "from itertools import islice\n",
        "\n",
        "# rows = read_file('personal_info.csv')\n",
        "# for row in islice(rows, 5):\n",
        "#     print(row)"
      ],
      "metadata": {
        "id": "yugOZv4lAI66"
      },
      "execution_count": null,
      "outputs": []
    },
    {
      "cell_type": "markdown",
      "source": [
        "As you can see, the data is already separated into a list containing the individual fields - but of course they are all just strings.\n",
        "\n",
        "---"
      ],
      "metadata": {
        "id": "1NJDfBLMAJud"
      }
    },
    {
      "cell_type": "markdown",
      "source": [
        "## Mount Google Drive"
      ],
      "metadata": {
        "id": "66f_suB-AQiX"
      }
    },
    {
      "cell_type": "code",
      "source": [
        "from google.colab import drive\n",
        "drive.mount('/content/gdrive', force_remount=True)"
      ],
      "metadata": {
        "colab": {
          "base_uri": "https://localhost:8080/"
        },
        "id": "ZM47D4QFANd-",
        "outputId": "6847103a-008e-46dc-bd8f-404bf03bdb66"
      },
      "execution_count": 1,
      "outputs": [
        {
          "output_type": "stream",
          "name": "stdout",
          "text": [
            "Mounted at /content/gdrive\n"
          ]
        }
      ]
    },
    {
      "cell_type": "code",
      "source": [
        "import sys\n",
        "sys.path.append('/content/gdrive/MyDrive/Python/Assignment')"
      ],
      "metadata": {
        "id": "sPqkBsGSAVQB"
      },
      "execution_count": 2,
      "outputs": []
    },
    {
      "cell_type": "code",
      "source": [
        "dir_loc = '/content/gdrive/MyDrive/Python/Assignment/'\n",
        "per_file = 'personal_info.csv'\n",
        "emp_file = 'employment.csv'\n",
        "veh_file = 'vehicles.csv'\n",
        "status_file = 'update_status.csv'"
      ],
      "metadata": {
        "id": "WxSDw94RAcB_"
      },
      "execution_count": 3,
      "outputs": []
    },
    {
      "cell_type": "markdown",
      "source": [
        "## Imports"
      ],
      "metadata": {
        "id": "UX6QZJ_DAic8"
      }
    },
    {
      "cell_type": "code",
      "source": [
        "import csv\n",
        "from itertools import islice\n",
        "from datetime import datetime\n",
        "from functools import namedtuple\n",
        "import itertools\n",
        "import pprint # pretty print"
      ],
      "metadata": {
        "id": "0rXLmmRuAfEv"
      },
      "execution_count": 4,
      "outputs": []
    },
    {
      "cell_type": "markdown",
      "source": [
        "### Examine File Content"
      ],
      "metadata": {
        "id": "IzxkvCdvAqhd"
      }
    },
    {
      "cell_type": "code",
      "source": [
        "def read_file(filename):\n",
        "  with open(filename) as f:\n",
        "    rows = csv.reader(f,delimiter =',', quotechar = '\"')\n",
        "    yield from rows\n",
        "\n",
        "def examine_file_content(filename):\n",
        "  rows = read_file(filename)\n",
        "\n",
        "  # just examine first 5 rows.\n",
        "  for row in islice(rows, 5):\n",
        "    print(row)"
      ],
      "metadata": {
        "id": "KyyeSyM6AmF_"
      },
      "execution_count": 5,
      "outputs": []
    },
    {
      "cell_type": "code",
      "source": [
        "examine_file_content(dir_loc+per_file)"
      ],
      "metadata": {
        "colab": {
          "base_uri": "https://localhost:8080/"
        },
        "id": "39UJtvlvA0OE",
        "outputId": "52257656-2949-4a9a-ab47-03b6f893fd25"
      },
      "execution_count": 6,
      "outputs": [
        {
          "output_type": "stream",
          "name": "stdout",
          "text": [
            "['ssn', 'first_name', 'last_name', 'gender', 'language']\n",
            "['100-53-9824', 'Sebastiano', 'Tester', 'Male', 'Icelandic']\n",
            "['101-71-4702', 'Cayla', 'MacDonagh', 'Female', 'Lao']\n",
            "['101-84-0356', 'Nomi', 'Lipprose', 'Female', 'Yiddish']\n",
            "['104-22-0928', 'Justinian', 'Kunzelmann', 'Male', 'Dhivehi']\n"
          ]
        }
      ]
    },
    {
      "cell_type": "code",
      "source": [
        "examine_file_content(dir_loc+emp_file)"
      ],
      "metadata": {
        "colab": {
          "base_uri": "https://localhost:8080/"
        },
        "id": "R72--O0GA3FE",
        "outputId": "b924dce4-0249-4dbe-e51d-71b92fd6ee9a"
      },
      "execution_count": 7,
      "outputs": [
        {
          "output_type": "stream",
          "name": "stdout",
          "text": [
            "['employer', 'department', 'employee_id', 'ssn']\n",
            "['Stiedemann-Bailey', 'Research and Development', '29-0890771', '100-53-9824']\n",
            "['Nicolas and Sons', 'Sales', '41-6841359', '101-71-4702']\n",
            "['Connelly Group', 'Research and Development', '98-7952860', '101-84-0356']\n",
            "['Upton LLC', 'Marketing', '56-9817552', '104-22-0928']\n"
          ]
        }
      ]
    },
    {
      "cell_type": "code",
      "source": [
        "examine_file_content(dir_loc+veh_file)"
      ],
      "metadata": {
        "colab": {
          "base_uri": "https://localhost:8080/"
        },
        "id": "YOLi9F2eA7cE",
        "outputId": "9bca3984-6aa6-4b59-ed14-a426538878aa"
      },
      "execution_count": 8,
      "outputs": [
        {
          "output_type": "stream",
          "name": "stdout",
          "text": [
            "['ssn', 'vehicle_make', 'vehicle_model', 'model_year']\n",
            "['100-53-9824', 'Oldsmobile', 'Bravada', '1993']\n",
            "['101-71-4702', 'Ford', 'Mustang', '1997']\n",
            "['101-84-0356', 'GMC', 'Yukon', '2005']\n",
            "['104-22-0928', 'Oldsmobile', 'Intrigue', '2000']\n"
          ]
        }
      ]
    },
    {
      "cell_type": "code",
      "source": [
        "examine_file_content(dir_loc+status_file)"
      ],
      "metadata": {
        "colab": {
          "base_uri": "https://localhost:8080/"
        },
        "id": "7YlKsS2sA-3s",
        "outputId": "d0613861-15a4-4a48-e254-a81c061170e1"
      },
      "execution_count": 9,
      "outputs": [
        {
          "output_type": "stream",
          "name": "stdout",
          "text": [
            "['ssn', 'last_updated', 'created']\n",
            "['100-53-9824', '2017-10-07T00:14:42Z', '2016-01-24T21:19:30Z']\n",
            "['101-71-4702', '2017-01-23T11:23:17Z', '2016-01-27T04:32:57Z']\n",
            "['101-84-0356', '2017-10-04T11:21:30Z', '2016-09-21T23:04:07Z']\n",
            "['104-22-0928', '2017-03-28T12:38:29Z', '2016-04-15T11:37:17Z']\n"
          ]
        }
      ]
    },
    {
      "cell_type": "markdown",
      "source": [
        "### Goal 1 : Create Iterators For Each File.\n",
        "\n",
        "\n",
        "Your first task is to create iterators for each of the four files that contained cleaned up data, of the correct type (e.g. string, int, date, etc), and represented by a named tuple.\n",
        "\n",
        "For now these four iterators are just separate, independent iterators."
      ],
      "metadata": {
        "id": "iPQOu15RF1mS"
      }
    },
    {
      "cell_type": "markdown",
      "source": [
        "#### Build Validators For Values"
      ],
      "metadata": {
        "id": "butdfjh5GEJi"
      }
    },
    {
      "cell_type": "code",
      "source": [
        "# build parser for each row value\n",
        "def parse_int(value):\n",
        "  try:\n",
        "    return int(value)\n",
        "  except ValueError:\n",
        "    return None\n",
        "\n",
        "def parse_string(value):\n",
        "  try:\n",
        "    return str(value)\n",
        "  except ValueError:\n",
        "    return None\n",
        "\n",
        "def parse_date(value):\n",
        "  try:\n",
        "    date = datetime.strptime(value, '%Y-%m-%dT%H:%M:%SZ')\n",
        "    #print(date)\n",
        "    return(date)\n",
        "  except ValueError:\n",
        "    return None\n",
        "\n",
        "# parse SSN: \n",
        "# input: 100-53-9824 \n",
        "# output:100539824\n",
        "def parse_ssn(value):\n",
        "  try:\n",
        "    val = value.replace('-', '')\n",
        "    return int(val)\n",
        "  except ValueError:\n",
        "    return None\n",
        "\n",
        "def parse_emp_id(value):\n",
        "  try:\n",
        "    val = value.replace('-', '')\n",
        "    return int(val)\n",
        "  except ValueError:\n",
        "    return None"
      ],
      "metadata": {
        "id": "tdHPlj9zGI2z"
      },
      "execution_count": 10,
      "outputs": []
    },
    {
      "cell_type": "code",
      "source": [
        "print(parse_int('4006478550'))\n",
        "print(parse_string(123))\n",
        "print(parse_ssn('100-53-9824'))\n",
        "parse_date('2017-10-07T00:14:42Z')"
      ],
      "metadata": {
        "colab": {
          "base_uri": "https://localhost:8080/"
        },
        "id": "4N3Mu2dmBCMj",
        "outputId": "0ca32885-585d-4b4c-de07-f82ef5b4a67e"
      },
      "execution_count": 11,
      "outputs": [
        {
          "output_type": "stream",
          "name": "stdout",
          "text": [
            "4006478550\n",
            "123\n",
            "100539824\n"
          ]
        },
        {
          "output_type": "execute_result",
          "data": {
            "text/plain": [
              "datetime.datetime(2017, 10, 7, 0, 14, 42)"
            ]
          },
          "metadata": {},
          "execution_count": 11
        }
      ]
    },
    {
      "cell_type": "markdown",
      "source": [
        "#### Incorporate Validators to Files and Build Generic Generator"
      ],
      "metadata": {
        "id": "QpAo8bnpGYW1"
      }
    },
    {
      "cell_type": "code",
      "source": [
        "def read_file_gen(filename, row_parser, nt_name = 'DATA'):\n",
        "  '''\n",
        "  Inputs: filename, row value parser\n",
        "  Outputs: Namedtuple\n",
        "  '''\n",
        "  with open(filename) as f:\n",
        "    rows = csv.reader(f,delimiter =',', quotechar = '\"')\n",
        "\n",
        "    hdr = next(rows)\n",
        "    #build namedtuple\n",
        "    nt_name = namedtuple(nt_name, hdr)\n",
        "\n",
        "    for r in rows:\n",
        "      row_value = [func(val) for func, val in zip(row_parser, r)]\n",
        "      yield nt_name._make(row_value)"
      ],
      "metadata": {
        "id": "wtg6wL1RIpD-"
      },
      "execution_count": 12,
      "outputs": []
    },
    {
      "cell_type": "markdown",
      "source": [
        "##### Personal File Generator"
      ],
      "metadata": {
        "id": "yHNwWJLCI6zW"
      }
    },
    {
      "cell_type": "code",
      "source": [
        " #define the row value parsers\n",
        "row_parser = (parse_ssn,\n",
        "                  parse_string,\n",
        "                  parse_string,\n",
        "                  parse_string,\n",
        "                  parse_string)\n",
        "  \n",
        "gen = read_file_gen(dir_loc+ per_file, row_parser, 'PER_DATA')\n",
        "\n",
        "for row in islice(gen, 5):\n",
        "  print(row)"
      ],
      "metadata": {
        "colab": {
          "base_uri": "https://localhost:8080/"
        },
        "id": "h7fMwBuVGUed",
        "outputId": "b2e4e1c6-082e-4231-9ab6-7eb9fa4a3bff"
      },
      "execution_count": 13,
      "outputs": [
        {
          "output_type": "stream",
          "name": "stdout",
          "text": [
            "PER_DATA(ssn=100539824, first_name='Sebastiano', last_name='Tester', gender='Male', language='Icelandic')\n",
            "PER_DATA(ssn=101714702, first_name='Cayla', last_name='MacDonagh', gender='Female', language='Lao')\n",
            "PER_DATA(ssn=101840356, first_name='Nomi', last_name='Lipprose', gender='Female', language='Yiddish')\n",
            "PER_DATA(ssn=104220928, first_name='Justinian', last_name='Kunzelmann', gender='Male', language='Dhivehi')\n",
            "PER_DATA(ssn=104847144, first_name='Claudianus', last_name='Brixey', gender='Male', language='Afrikaans')\n"
          ]
        }
      ]
    },
    {
      "cell_type": "markdown",
      "source": [
        "##### Employment file generator"
      ],
      "metadata": {
        "id": "-3jyAdghI-qA"
      }
    },
    {
      "cell_type": "code",
      "source": [
        "#['employer', 'department', 'employee_id', 'ssn']\n",
        "#['Stiedemann-Bailey', 'Research and Development', '29-0890771', '100-53-9824']\n",
        "emp_row_parser = (parse_string,\n",
        "                  parse_string,\n",
        "                  parse_emp_id,\n",
        "                  parse_ssn)\n",
        "\n",
        "emp_gen = read_file_gen(dir_loc+emp_file, emp_row_parser, 'EMP_DATA')\n",
        "\n",
        "for row in islice(emp_gen, 5):\n",
        "  print(row)"
      ],
      "metadata": {
        "colab": {
          "base_uri": "https://localhost:8080/"
        },
        "id": "arDCMJRQI9Mt",
        "outputId": "4df12357-63f7-4f72-cdeb-432bf716deed"
      },
      "execution_count": 14,
      "outputs": [
        {
          "output_type": "stream",
          "name": "stdout",
          "text": [
            "EMP_DATA(employer='Stiedemann-Bailey', department='Research and Development', employee_id=290890771, ssn=100539824)\n",
            "EMP_DATA(employer='Nicolas and Sons', department='Sales', employee_id=416841359, ssn=101714702)\n",
            "EMP_DATA(employer='Connelly Group', department='Research and Development', employee_id=987952860, ssn=101840356)\n",
            "EMP_DATA(employer='Upton LLC', department='Marketing', employee_id=569817552, ssn=104220928)\n",
            "EMP_DATA(employer='Zemlak-Olson', department='Business Development', employee_id=462886707, ssn=104847144)\n"
          ]
        }
      ]
    },
    {
      "cell_type": "markdown",
      "source": [
        "##### Vechile File Generator"
      ],
      "metadata": {
        "id": "EbJ_XMAbJGWE"
      }
    },
    {
      "cell_type": "code",
      "source": [
        "#['ssn', 'vehicle_make', 'vehicle_model', 'model_year']\n",
        "#['100-53-9824', 'Oldsmobile', 'Bravada', '1993']\n",
        "\n",
        "veh_row_parser = (parse_ssn,\n",
        "                  parse_string,\n",
        "                  parse_string,\n",
        "                  parse_int)\n",
        "\n",
        "veh_file_gen = read_file_gen(dir_loc+veh_file, veh_row_parser, 'VEH_DATA')\n",
        "\n",
        "for row in islice(veh_file_gen, 5):\n",
        "  print(row)"
      ],
      "metadata": {
        "colab": {
          "base_uri": "https://localhost:8080/"
        },
        "id": "b1DCixrdJE9E",
        "outputId": "9b2ec833-7410-4093-d237-ac5fe0816ab3"
      },
      "execution_count": 15,
      "outputs": [
        {
          "output_type": "stream",
          "name": "stdout",
          "text": [
            "VEH_DATA(ssn=100539824, vehicle_make='Oldsmobile', vehicle_model='Bravada', model_year=1993)\n",
            "VEH_DATA(ssn=101714702, vehicle_make='Ford', vehicle_model='Mustang', model_year=1997)\n",
            "VEH_DATA(ssn=101840356, vehicle_make='GMC', vehicle_model='Yukon', model_year=2005)\n",
            "VEH_DATA(ssn=104220928, vehicle_make='Oldsmobile', vehicle_model='Intrigue', model_year=2000)\n",
            "VEH_DATA(ssn=104847144, vehicle_make='Ford', vehicle_model='Crown Victoria', model_year=2008)\n"
          ]
        }
      ]
    },
    {
      "cell_type": "markdown",
      "source": [
        "##### Status File Generator"
      ],
      "metadata": {
        "id": "OBcBRPhgJOS4"
      }
    },
    {
      "cell_type": "code",
      "source": [
        "#['ssn', 'last_updated', 'created']\n",
        "#['100-53-9824', '2017-10-07T00:14:42Z', '2016-01-24T21:19:30Z']\n",
        "\n",
        "stat_row_parser = (parse_ssn,\n",
        "                   parse_date,\n",
        "                   parse_date)\n",
        "\n",
        "stat_file_gen = read_file_gen(dir_loc+status_file, stat_row_parser, 'STAT_DATA')\n",
        "\n",
        "for row in islice(stat_file_gen, 5):\n",
        "  print(row)"
      ],
      "metadata": {
        "colab": {
          "base_uri": "https://localhost:8080/"
        },
        "id": "v45WiFi9JNS8",
        "outputId": "89e4ccf4-bd69-4577-d2d4-a5032dde4895"
      },
      "execution_count": 16,
      "outputs": [
        {
          "output_type": "stream",
          "name": "stdout",
          "text": [
            "STAT_DATA(ssn=100539824, last_updated=datetime.datetime(2017, 10, 7, 0, 14, 42), created=datetime.datetime(2016, 1, 24, 21, 19, 30))\n",
            "STAT_DATA(ssn=101714702, last_updated=datetime.datetime(2017, 1, 23, 11, 23, 17), created=datetime.datetime(2016, 1, 27, 4, 32, 57))\n",
            "STAT_DATA(ssn=101840356, last_updated=datetime.datetime(2017, 10, 4, 11, 21, 30), created=datetime.datetime(2016, 9, 21, 23, 4, 7))\n",
            "STAT_DATA(ssn=104220928, last_updated=datetime.datetime(2017, 3, 28, 12, 38, 29), created=datetime.datetime(2016, 4, 15, 11, 37, 17))\n",
            "STAT_DATA(ssn=104847144, last_updated=datetime.datetime(2018, 2, 19, 1, 34, 33), created=datetime.datetime(2016, 3, 15, 14, 7, 57))\n"
          ]
        }
      ]
    },
    {
      "cell_type": "markdown",
      "source": [
        "## Goal 2 : Create a single iterable for all files.\n",
        "\n",
        "Create a single iterable that combines all the columns from all the iterators.\n",
        "\n",
        "The iterable should yield named tuples containing all the columns.\n",
        "Make sure that the SSN's across the files match!"
      ],
      "metadata": {
        "id": "6x2u2mLjJbZg"
      }
    },
    {
      "cell_type": "code",
      "source": [
        "def read_file_gen_return_tuple(filename, row_parser):\n",
        "  '''\n",
        "  inputs: file-name, row_parser\n",
        "  output: list of tuples, [(col-name, val), (col-name2, val2) ... ]\n",
        "  '''\n",
        "  with open(filename) as f:\n",
        "    rows = csv.reader(f,delimiter =',', quotechar = '\"')\n",
        "    hdr = next(rows)\n",
        "    \n",
        "    for r in rows:\n",
        "      row_value = [func(val) for func, val in zip(row_parser, r)]\n",
        "      yield list(zip(hdr, row_value))"
      ],
      "metadata": {
        "id": "kY3cHtKpJVLn"
      },
      "execution_count": 18,
      "outputs": []
    },
    {
      "cell_type": "markdown",
      "source": [
        "#### Get All Four Generators and Merge Based on SSN"
      ],
      "metadata": {
        "id": "wmu_63CIPmtN"
      }
    },
    {
      "cell_type": "code",
      "source": [
        "gen1 = read_file_gen_return_tuple(dir_loc+ per_file, row_parser)\n",
        "gen2 = read_file_gen_return_tuple(dir_loc+emp_file, emp_row_parser)\n",
        "gen3 = read_file_gen_return_tuple(dir_loc+veh_file, veh_row_parser)\n",
        "gen4 = read_file_gen_return_tuple(dir_loc+status_file, stat_row_parser)\n",
        "\n",
        "for row in islice(zip(gen1, gen2, gen3, gen4), 5):\n",
        "  # get the flatten list\n",
        "  flatten_list = list(itertools.chain(*row))\n",
        "\n",
        "  # need to remove the multiple definition of same key.\n",
        "  # try using set to remove redundant items\n",
        "  s = set(flatten_list)\n",
        "  print(s)"
      ],
      "metadata": {
        "colab": {
          "base_uri": "https://localhost:8080/"
        },
        "id": "MDjuEPZNPrCs",
        "outputId": "ad49f303-596f-4e2a-b36e-f9a83b1edb4e"
      },
      "execution_count": 19,
      "outputs": [
        {
          "output_type": "stream",
          "name": "stdout",
          "text": [
            "{('vehicle_model', 'Bravada'), ('employer', 'Stiedemann-Bailey'), ('employee_id', 290890771), ('model_year', 1993), ('last_updated', datetime.datetime(2017, 10, 7, 0, 14, 42)), ('created', datetime.datetime(2016, 1, 24, 21, 19, 30)), ('vehicle_make', 'Oldsmobile'), ('last_name', 'Tester'), ('gender', 'Male'), ('first_name', 'Sebastiano'), ('ssn', 100539824), ('department', 'Research and Development'), ('language', 'Icelandic')}\n",
            "{('created', datetime.datetime(2016, 1, 27, 4, 32, 57)), ('department', 'Sales'), ('language', 'Lao'), ('vehicle_model', 'Mustang'), ('last_name', 'MacDonagh'), ('model_year', 1997), ('vehicle_make', 'Ford'), ('last_updated', datetime.datetime(2017, 1, 23, 11, 23, 17)), ('employer', 'Nicolas and Sons'), ('first_name', 'Cayla'), ('ssn', 101714702), ('gender', 'Female'), ('employee_id', 416841359)}\n",
            "{('vehicle_model', 'Yukon'), ('employer', 'Connelly Group'), ('employee_id', 987952860), ('vehicle_make', 'GMC'), ('created', datetime.datetime(2016, 9, 21, 23, 4, 7)), ('language', 'Yiddish'), ('last_updated', datetime.datetime(2017, 10, 4, 11, 21, 30)), ('model_year', 2005), ('department', 'Research and Development'), ('last_name', 'Lipprose'), ('ssn', 101840356), ('first_name', 'Nomi'), ('gender', 'Female')}\n",
            "{('last_name', 'Kunzelmann'), ('language', 'Dhivehi'), ('ssn', 104220928), ('vehicle_make', 'Oldsmobile'), ('vehicle_model', 'Intrigue'), ('model_year', 2000), ('created', datetime.datetime(2016, 4, 15, 11, 37, 17)), ('employer', 'Upton LLC'), ('first_name', 'Justinian'), ('gender', 'Male'), ('last_updated', datetime.datetime(2017, 3, 28, 12, 38, 29)), ('employee_id', 569817552), ('department', 'Marketing')}\n",
            "{('employee_id', 462886707), ('model_year', 2008), ('last_name', 'Brixey'), ('first_name', 'Claudianus'), ('vehicle_model', 'Crown Victoria'), ('created', datetime.datetime(2016, 3, 15, 14, 7, 57)), ('vehicle_make', 'Ford'), ('gender', 'Male'), ('ssn', 104847144), ('last_updated', datetime.datetime(2018, 2, 19, 1, 34, 33)), ('employer', 'Zemlak-Olson'), ('language', 'Afrikaans'), ('department', 'Business Development')}\n"
          ]
        }
      ]
    },
    {
      "cell_type": "markdown",
      "source": [
        "#### Create Single Generator"
      ],
      "metadata": {
        "id": "XZpQOJEpQJpW"
      }
    },
    {
      "cell_type": "code",
      "source": [
        "def get_name_value(complete_row):\n",
        "  # flatten the list\n",
        "  # need to remove the multiple definition of same key.\n",
        "  # try using set\n",
        "  flatten_list = set(complete_row)\n",
        "\n",
        "  hdr = [name[0] for name in flatten_list]\n",
        "  val = [name[1] for name in flatten_list]\n",
        "  return(hdr, val)\n",
        "  \n",
        "def create_single_gen(gen1, gen2, gen3, gen4):\n",
        "  '''\n",
        "  Build single generator.\n",
        "  '''\n",
        "  # first create named tuple\n",
        "  for row in islice(zip(gen1, gen2, gen3, gen4), 1):\n",
        "    # create the namedtuple\n",
        "    complete_row = list(itertools.chain(*row))\n",
        "    hdr, val = get_name_value(complete_row)\n",
        "    CombinedData = namedtuple('CombinedData', hdr)\n",
        "    #print(flatten_list)\n",
        "    yield CombinedData._make(val)\n",
        "    \n",
        "  # yield rest of the records\n",
        "  for row in zip(gen1, gen2, gen3, gen4):\n",
        "    complete_row = list(itertools.chain(*row))\n",
        "    hdr, val = get_name_value(complete_row)\n",
        "    di = dict()\n",
        "    for key, val in zip(hdr, val):\n",
        "      di[key] = val\n",
        "    #print(di)\n",
        "    yield CombinedData(**di)"
      ],
      "metadata": {
        "id": "UIyduaPuQMsL"
      },
      "execution_count": 20,
      "outputs": []
    },
    {
      "cell_type": "code",
      "source": [
        "single_gen = create_single_gen(gen1, gen2, gen3, gen4)\n",
        "\n",
        "for row in islice(single_gen, 5):\n",
        "  print(row)"
      ],
      "metadata": {
        "colab": {
          "base_uri": "https://localhost:8080/"
        },
        "id": "1BSSLeL8Qe-2",
        "outputId": "b7a95a07-6416-4598-8b02-8a9b60000cfa"
      },
      "execution_count": 21,
      "outputs": [
        {
          "output_type": "stream",
          "name": "stdout",
          "text": [
            "CombinedData(employer='Kohler, Bradtke and Davis', last_name='Aggett', created=datetime.datetime(2016, 7, 23, 17, 58, 35), ssn=105275541, first_name='Federico', employee_id=800975518, model_year=2001, vehicle_model='Mustang', vehicle_make='Ford', language='Chinese', gender='Male', department='Support', last_updated=datetime.datetime(2017, 7, 24, 8, 58, 52))\n",
            "CombinedData(employer='Roberts, Torphy and Dach', last_name='McAvey', created=datetime.datetime(2016, 12, 15, 5, 46, 43), ssn=105857486, first_name='Angelina', employee_id=774895332, model_year=2008, vehicle_model='300', vehicle_make='Chrysler', language='Punjabi', gender='Female', department='Human Resources', last_updated=datetime.datetime(2018, 2, 14, 11, 32, 39))\n",
            "CombinedData(employer='Lind-Jast', last_name='Apfel', created=datetime.datetime(2016, 3, 24, 3, 43, 3), ssn=105915022, first_name='Moselle', employee_id=796418731, model_year=2000, vehicle_model='Hombre Space', vehicle_make='Isuzu', language='Latvian', gender='Female', department='Marketing', last_updated=datetime.datetime(2018, 3, 24, 14, 29, 33))\n",
            "CombinedData(employer='Bashirian-Lueilwitz', last_name='Roach', created=datetime.datetime(2016, 5, 31, 0, 38, 13), ssn=105917777, first_name='Audi', employee_id=443328799, model_year=2004, vehicle_model='Silverado 3500', vehicle_make='Chevrolet', language='Estonian', gender='Female', department='Engineering', last_updated=datetime.datetime(2017, 5, 11, 1, 48, 32))\n",
            "CombinedData(employer='Windler, Marks and Haley', last_name='Nussey', created=datetime.datetime(2016, 9, 8, 4, 2, 12), ssn=106351938, first_name='Mackenzie', employee_id=546271885, model_year=1992, vehicle_model='Sonoma Club', vehicle_make='GMC', language='Swedish', gender='Male', department='Services', last_updated=datetime.datetime(2017, 10, 21, 1, 7, 28))\n"
          ]
        }
      ]
    },
    {
      "cell_type": "markdown",
      "source": [
        "## Goal 3: Create Iterator To Ignore Stale Records\n",
        "\n",
        "Next, you want to identify any stale records, where stale simply means the record has not been updated since 3/1/2017 (e.g. last update date < 3/1/2017). Create an iterator that only contains current records (i.e. not stale) based on the `last_updated` field from the `status_update` file."
      ],
      "metadata": {
        "id": "hgvlWjmsQw9-"
      }
    },
    {
      "cell_type": "code",
      "source": [
        "def is_record_stale(complete_row):\n",
        "  '''\n",
        "  The record is stale if not updated on or after\n",
        "  the reference date (Mar/1/2017)\n",
        "  '''\n",
        "  # yyyy/mm/dd\n",
        "  reference_date = datetime(2017, 3, 1).date()\n",
        "  for item in complete_row:\n",
        "    key = item[0]\n",
        "    value = item[1]\n",
        "    if key == 'last_updated':\n",
        "      #print(value.date())\n",
        "      if value.date() < reference_date:\n",
        "        return True\n",
        "      else:\n",
        "        return False\n",
        "\n",
        "def create_single_gen(gen1, gen2, gen3, gen4):\n",
        "  '''\n",
        "  Create Iterator to ignore stale records\n",
        "  '''\n",
        "  # first create named tuple\n",
        "  for row in islice(zip(gen1, gen2, gen3, gen4), 1):\n",
        "    # create the namedtuple\n",
        "    complete_row = list(itertools.chain(*row))\n",
        "    hdr, val = get_name_value(complete_row)\n",
        "    CombinedData = namedtuple('CombinedData', hdr)\n",
        "    yield CombinedData._make(val)\n",
        "    \n",
        "  # yield rest of the records\n",
        "  for row in zip(gen1, gen2, gen3, gen4):\n",
        "    complete_row = list(itertools.chain(*row))\n",
        "\n",
        "    if is_record_stale(complete_row):\n",
        "      continue\n",
        "\n",
        "    # build dictionary for namedtuple\n",
        "    hdr, val = get_name_value(complete_row)\n",
        "    di = dict()\n",
        "    for key, val in zip(hdr, val):\n",
        "      di[key] = val\n",
        "      \n",
        "    yield CombinedData(**di)"
      ],
      "metadata": {
        "id": "hOaZRdvNQp9e"
      },
      "execution_count": 22,
      "outputs": []
    },
    {
      "cell_type": "code",
      "source": [
        "single_gen = create_single_gen(gen1, gen2, gen3, gen4)\n",
        "for row in islice(single_gen, 5):\n",
        "  print(row)"
      ],
      "metadata": {
        "colab": {
          "base_uri": "https://localhost:8080/"
        },
        "id": "_Denu58vRgZ7",
        "outputId": "707d9bf4-563b-4ddc-a45e-0149639e5dc9"
      },
      "execution_count": 23,
      "outputs": [
        {
          "output_type": "stream",
          "name": "stdout",
          "text": [
            "CombinedData(department='Accounting', employee_id=315735282, vehicle_make='Volkswagen', vehicle_model='Touareg', created=datetime.datetime(2016, 5, 16, 21, 21, 36), first_name='Martino', ssn=106363293, last_updated=datetime.datetime(2017, 3, 18, 18, 24, 17), gender='Male', language='Tok Pisin', employer='Leffler-Hahn', last_name='Tregoning', model_year=2008)\n",
            "CombinedData(department='Marketing', employee_id=339146042, vehicle_make='Ford', vehicle_model='Mustang', created=datetime.datetime(2016, 9, 12, 22, 50, 5), first_name='Amberly', ssn=110843641, last_updated=datetime.datetime(2017, 9, 4, 19, 2, 3), gender='Female', language='Papiamento', employer='Lueilwitz LLC', last_name='Huws', model_year=1990)\n",
            "CombinedData(department='Accounting', employee_id=390400385, vehicle_make='Ford', vehicle_model='Fiesta', created=datetime.datetime(2016, 8, 21, 7, 36, 17), first_name='Giacopo', ssn=111351034, last_updated=datetime.datetime(2017, 3, 18, 14, 51, 4), gender='Male', language='Gagauz', employer='Davis Inc', last_name='Timperley', model_year=2001)\n",
            "CombinedData(department='Research and Development', employee_id=782612900, vehicle_make='Aston Martin', vehicle_model='DBS', created=datetime.datetime(2016, 7, 15, 21, 58, 3), first_name='Jule', ssn=114066912, last_updated=datetime.datetime(2018, 2, 5, 20, 48, 34), gender='Male', language='Dutch', employer='Kunze LLC', last_name='Velte', model_year=2011)\n",
            "CombinedData(department='Product Management', employee_id=858596488, vehicle_make='Chevrolet', vehicle_model='Camaro', created=datetime.datetime(2016, 5, 28, 20, 31, 25), first_name='Casandra', ssn=114660984, last_updated=datetime.datetime(2017, 6, 16, 17, 41, 33), gender='Female', language='Lithuanian', employer='Mayert, Rice and Schmitt', last_name='Juares', model_year=1998)\n"
          ]
        }
      ]
    },
    {
      "cell_type": "markdown",
      "source": [
        "## Goal 4: Find the largest group of car makes for each gender.\n",
        "\n",
        "Possibly more than one such group per gender exists (equal sizes)."
      ],
      "metadata": {
        "id": "mYx4Dw5YRy5t"
      }
    },
    {
      "cell_type": "code",
      "source": [
        "# get the generators\n",
        "gen1 = read_file_gen_return_tuple(dir_loc+ per_file, row_parser)\n",
        "gen2 = read_file_gen_return_tuple(dir_loc+emp_file, emp_row_parser)\n",
        "gen3 = read_file_gen_return_tuple(dir_loc+veh_file, veh_row_parser)\n",
        "gen4 = read_file_gen_return_tuple(dir_loc+status_file, stat_row_parser)\n",
        "\n",
        "# create single iteraor\n",
        "single_gen = create_single_gen(gen1, gen2, gen3, gen4)\n",
        "\n",
        "\n",
        "def add_to_dict(dt, key):\n",
        "  if key in dt:\n",
        "    dt[key] += 1\n",
        "  else:\n",
        "    dt[key] = 1\n",
        "\n",
        "male_veh_dict = dict()\n",
        "female_veh_dict = dict()\n",
        "\n",
        "for row in single_gen:\n",
        "  nt = row\n",
        "  if nt.gender.lower() == 'male':\n",
        "    add_to_dict(male_veh_dict, nt.vehicle_make)\n",
        "  else:\n",
        "    add_to_dict(female_veh_dict, nt.vehicle_make)"
      ],
      "metadata": {
        "id": "rdpy2NlERlJp"
      },
      "execution_count": 28,
      "outputs": []
    },
    {
      "cell_type": "code",
      "source": [
        "print('------Vehicle Make of Females----------')\n",
        "pprint.pprint(female_veh_dict)\n",
        "print(f'Total number of vehicles {sum(female_veh_dict.values())}')\n",
        "\n",
        "print('-------Vehicle Make of Males----------')\n",
        "pprint.pprint(male_veh_dict)\n",
        "print(f'Total number of vehicles {sum(male_veh_dict.values())}')"
      ],
      "metadata": {
        "colab": {
          "base_uri": "https://localhost:8080/"
        },
        "id": "aQQHYm1-Smad",
        "outputId": "75f65f35-464e-4f80-aba1-0707c8f83776"
      },
      "execution_count": 29,
      "outputs": [
        {
          "output_type": "stream",
          "name": "stdout",
          "text": [
            "------Vehicle Make of Females----------\n",
            "{'Acura': 9,\n",
            " 'Aston Martin': 2,\n",
            " 'Audi': 13,\n",
            " 'Austin': 1,\n",
            " 'BMW': 12,\n",
            " 'Bentley': 4,\n",
            " 'Bugatti': 1,\n",
            " 'Buick': 11,\n",
            " 'Cadillac': 6,\n",
            " 'Chevrolet': 42,\n",
            " 'Chrysler': 6,\n",
            " 'Dodge': 17,\n",
            " 'Eagle': 1,\n",
            " 'Ford': 42,\n",
            " 'GMC': 22,\n",
            " 'Geo': 1,\n",
            " 'Honda': 8,\n",
            " 'Hyundai': 4,\n",
            " 'Infiniti': 9,\n",
            " 'Isuzu': 3,\n",
            " 'Jaguar': 3,\n",
            " 'Jeep': 5,\n",
            " 'Kia': 9,\n",
            " 'Lamborghini': 2,\n",
            " 'Land Rover': 8,\n",
            " 'Lexus': 15,\n",
            " 'Lincoln': 4,\n",
            " 'Lotus': 5,\n",
            " 'Mazda': 13,\n",
            " 'Mercedes-Benz': 17,\n",
            " 'Mercury': 5,\n",
            " 'Mitsubishi': 22,\n",
            " 'Morgan': 1,\n",
            " 'Nissan': 12,\n",
            " 'Oldsmobile': 8,\n",
            " 'Panoz': 1,\n",
            " 'Plymouth': 3,\n",
            " 'Pontiac': 14,\n",
            " 'Porsche': 3,\n",
            " 'Rolls-Royce': 1,\n",
            " 'Saab': 3,\n",
            " 'Saturn': 3,\n",
            " 'Scion': 2,\n",
            " 'Subaru': 6,\n",
            " 'Suzuki': 12,\n",
            " 'Toyota': 20,\n",
            " 'Volkswagen': 10,\n",
            " 'Volvo': 13}\n",
            "Total number of vehicles 434\n",
            "-------Vehicle Make of Males----------\n",
            "{'Acura': 7,\n",
            " 'Aptera': 1,\n",
            " 'Aston Martin': 3,\n",
            " 'Audi': 14,\n",
            " 'Austin': 1,\n",
            " 'BMW': 12,\n",
            " 'Bentley': 3,\n",
            " 'Buick': 13,\n",
            " 'Cadillac': 9,\n",
            " 'Chevrolet': 30,\n",
            " 'Chrysler': 3,\n",
            " 'Corbin': 1,\n",
            " 'Daewoo': 1,\n",
            " 'Dodge': 22,\n",
            " 'Eagle': 1,\n",
            " 'Ford': 40,\n",
            " 'GMC': 28,\n",
            " 'Geo': 2,\n",
            " 'Honda': 9,\n",
            " 'Hyundai': 8,\n",
            " 'Infiniti': 7,\n",
            " 'Isuzu': 3,\n",
            " 'Jaguar': 4,\n",
            " 'Jeep': 7,\n",
            " 'Jensen': 1,\n",
            " 'Kia': 5,\n",
            " 'Lamborghini': 4,\n",
            " 'Land Rover': 3,\n",
            " 'Lexus': 6,\n",
            " 'Lincoln': 5,\n",
            " 'Lotus': 5,\n",
            " 'Maserati': 3,\n",
            " 'Maybach': 2,\n",
            " 'Mazda': 13,\n",
            " 'Mercedes-Benz': 19,\n",
            " 'Mercury': 11,\n",
            " 'Mitsubishi': 28,\n",
            " 'Nissan': 6,\n",
            " 'Oldsmobile': 5,\n",
            " 'Panoz': 2,\n",
            " 'Plymouth': 4,\n",
            " 'Pontiac': 11,\n",
            " 'Porsche': 4,\n",
            " 'Rolls-Royce': 1,\n",
            " 'Saab': 8,\n",
            " 'Saturn': 3,\n",
            " 'Scion': 1,\n",
            " 'Smart': 1,\n",
            " 'Subaru': 8,\n",
            " 'Suzuki': 2,\n",
            " 'Toyota': 21,\n",
            " 'Volkswagen': 16,\n",
            " 'Volvo': 10}\n",
            "Total number of vehicles 437\n"
          ]
        }
      ]
    },
    {
      "cell_type": "code",
      "source": [
        ""
      ],
      "metadata": {
        "id": "eNtj6c8mR8yg"
      },
      "execution_count": null,
      "outputs": []
    }
  ]
}